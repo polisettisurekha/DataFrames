{
 "cells": [
  {
   "cell_type": "code",
   "execution_count": 1,
   "id": "d2f9bbfa-33a6-4205-b0ff-67b8424473ed",
   "metadata": {},
   "outputs": [
    {
     "name": "stdout",
     "output_type": "stream",
     "text": [
      "Requirement already satisfied: numpy in c:\\users\\surek\\appdata\\local\\programs\\python\\python311\\lib\\site-packages (1.25.2)\n",
      "Note: you may need to restart the kernel to use updated packages.\n"
     ]
    }
   ],
   "source": [
    "pip install numpy"
   ]
  },
  {
   "cell_type": "code",
   "execution_count": 200,
   "id": "54162268-1eb0-40d3-8b1a-83c4dd18843b",
   "metadata": {},
   "outputs": [],
   "source": [
    "import numpy as np"
   ]
  },
  {
   "cell_type": "code",
   "execution_count": null,
   "id": "aab8c76e-9b07-4b35-82af-92ba71ca8767",
   "metadata": {},
   "outputs": [],
   "source": [
    "# -------------Creating One dimention array ------------------"
   ]
  },
  {
   "cell_type": "code",
   "execution_count": 201,
   "id": "2f151df9-c127-4d4e-9374-5d024b4dca6f",
   "metadata": {},
   "outputs": [
    {
     "data": {
      "text/plain": [
       "array([1, 2, 3])"
      ]
     },
     "execution_count": 201,
     "metadata": {},
     "output_type": "execute_result"
    }
   ],
   "source": [
    "D1 = np.array([1,2,3])\n",
    "D1"
   ]
  },
  {
   "cell_type": "code",
   "execution_count": 202,
   "id": "ec577ef1-c572-4ffc-8aa6-5e2444709bd4",
   "metadata": {},
   "outputs": [
    {
     "name": "stdout",
     "output_type": "stream",
     "text": [
      "1\n"
     ]
    }
   ],
   "source": [
    "print(np.ndim(D1))"
   ]
  },
  {
   "cell_type": "code",
   "execution_count": null,
   "id": "6ee9faf6-31d9-40c5-9505-492c26b5f76c",
   "metadata": {},
   "outputs": [],
   "source": [
    "# -------------Creating Two dimention array ------------------"
   ]
  },
  {
   "cell_type": "code",
   "execution_count": 203,
   "id": "5dc3283a-59fa-42fb-991c-a614ba285049",
   "metadata": {},
   "outputs": [
    {
     "data": {
      "text/plain": [
       "array([[1, 2],\n",
       "       [3, 4]])"
      ]
     },
     "execution_count": 203,
     "metadata": {},
     "output_type": "execute_result"
    }
   ],
   "source": [
    "D2 = np.array([[1,2],[3,4]])\n",
    "D2"
   ]
  },
  {
   "cell_type": "code",
   "execution_count": 204,
   "id": "a17845aa-2758-4e21-ad80-9e39826d1437",
   "metadata": {},
   "outputs": [
    {
     "name": "stdout",
     "output_type": "stream",
     "text": [
      "2\n"
     ]
    }
   ],
   "source": [
    "print(np.ndim(D2))"
   ]
  },
  {
   "cell_type": "code",
   "execution_count": null,
   "id": "56b0e3fa-fc81-4a9b-aeaa-9bd9764d29b2",
   "metadata": {},
   "outputs": [],
   "source": [
    "# -------------Creating Three dimention array ------------------"
   ]
  },
  {
   "cell_type": "code",
   "execution_count": 205,
   "id": "161aed3d-5b3d-4818-80e3-ea43741e0220",
   "metadata": {},
   "outputs": [
    {
     "data": {
      "text/plain": [
       "array([[[19, 65, 43],\n",
       "        [ 7,  8,  9],\n",
       "        [11, 12, 13]]])"
      ]
     },
     "execution_count": 205,
     "metadata": {},
     "output_type": "execute_result"
    }
   ],
   "source": [
    "D3 = np.array([[[19,65,43],[7,8,9],[11,12,13]]])\n",
    "D3"
   ]
  },
  {
   "cell_type": "code",
   "execution_count": 206,
   "id": "3e44589d-4fb1-4bd8-a42f-6e9acba35c9c",
   "metadata": {},
   "outputs": [
    {
     "name": "stdout",
     "output_type": "stream",
     "text": [
      "3\n"
     ]
    }
   ],
   "source": [
    "print(np.ndim(D3))"
   ]
  },
  {
   "cell_type": "code",
   "execution_count": null,
   "id": "ba0bc385-e56e-4056-bc2d-11ff4e5f585b",
   "metadata": {},
   "outputs": [],
   "source": [
    "# -------------Creating four dimention array ------------------"
   ]
  },
  {
   "cell_type": "code",
   "execution_count": 207,
   "id": "f867bb57-1280-4b3b-95f9-0a092ed1c4a9",
   "metadata": {},
   "outputs": [
    {
     "data": {
      "text/plain": [
       "array([[[[1, 2, 3, 4],\n",
       "         [4, 5, 6, 7],\n",
       "         [6, 7, 8, 9],\n",
       "         [4, 8, 9, 5]]]])"
      ]
     },
     "execution_count": 207,
     "metadata": {},
     "output_type": "execute_result"
    }
   ],
   "source": [
    "D4 = np.array([[[[1,2,3,4],[4,5,6,7],[6,7,8,9],[4,8,9,5]]]])\n",
    "D4"
   ]
  },
  {
   "cell_type": "code",
   "execution_count": 208,
   "id": "30ee3213-012f-48ae-a0d9-9fdcfb242f7a",
   "metadata": {},
   "outputs": [
    {
     "name": "stdout",
     "output_type": "stream",
     "text": [
      "4\n"
     ]
    }
   ],
   "source": [
    "print(np.ndim(D4))"
   ]
  },
  {
   "cell_type": "code",
   "execution_count": null,
   "id": "2161d9d9-ca22-4298-9050-96f00b10c356",
   "metadata": {},
   "outputs": [],
   "source": [
    "# -------------Creating five dimention array ------------------"
   ]
  },
  {
   "cell_type": "code",
   "execution_count": 209,
   "id": "3d2685b6-5546-4a72-8bf7-b6d0dcc8b6d6",
   "metadata": {},
   "outputs": [
    {
     "data": {
      "text/plain": [
       "array([[[[[ 1,  2,  3,  4, 15],\n",
       "          [ 2, 23, 44,  5, 16],\n",
       "          [32, 14, 51,  6,  7],\n",
       "          [ 1,  2,  3,  7,  8],\n",
       "          [11, 12, 13, 14, 15]]]]])"
      ]
     },
     "execution_count": 209,
     "metadata": {},
     "output_type": "execute_result"
    }
   ],
   "source": [
    "D5 = np.array([[[[[1,2,3,4,15],[2,23,44,5,16],[32,14,51,6,7],[1,2,3,7,8],[11,12,13,14,15]]]]])\n",
    "D5"
   ]
  },
  {
   "cell_type": "code",
   "execution_count": 210,
   "id": "31fd189d-7ae4-4215-bf6c-ac5be964e325",
   "metadata": {},
   "outputs": [
    {
     "name": "stdout",
     "output_type": "stream",
     "text": [
      "5\n"
     ]
    }
   ],
   "source": [
    "print(np.ndim(D5))"
   ]
  },
  {
   "cell_type": "code",
   "execution_count": null,
   "id": "64cc9704-e9d8-4e5e-8e6f-a0c5a16bd0d6",
   "metadata": {},
   "outputs": [],
   "source": [
    "# ------------- Finding Det for 5 matrices ------------------"
   ]
  },
  {
   "cell_type": "code",
   "execution_count": 211,
   "id": "cda0455d-6c7f-4d83-80ac-77f7cc0319fa",
   "metadata": {},
   "outputs": [],
   "source": [
    "import numpy as np\n",
    "from numpy import linalg as la"
   ]
  },
  {
   "cell_type": "code",
   "execution_count": 212,
   "id": "b1e1b2e8-e25e-4ad2-9667-e0d1732a1bb1",
   "metadata": {},
   "outputs": [
    {
     "data": {
      "text/plain": [
       "-2.0000000000000004"
      ]
     },
     "execution_count": 212,
     "metadata": {},
     "output_type": "execute_result"
    }
   ],
   "source": [
    "#det1 = la.det(D1) # gives u a error\n",
    "det2 = la.det(D2)\n",
    "det2"
   ]
  },
  {
   "cell_type": "code",
   "execution_count": 213,
   "id": "696e4e96-482d-40b9-8099-31a57c33fd41",
   "metadata": {},
   "outputs": [
    {
     "data": {
      "text/plain": [
       "array([272.])"
      ]
     },
     "execution_count": 213,
     "metadata": {},
     "output_type": "execute_result"
    }
   ],
   "source": [
    "det3 = la.det(D3)\n",
    "det3"
   ]
  },
  {
   "cell_type": "code",
   "execution_count": 214,
   "id": "f9b13c8b-1c9e-4c71-8efa-63a5f0278025",
   "metadata": {},
   "outputs": [
    {
     "data": {
      "text/plain": [
       "array([[2.66453526e-14]])"
      ]
     },
     "execution_count": 214,
     "metadata": {},
     "output_type": "execute_result"
    }
   ],
   "source": [
    "det4 = la.det(D4)\n",
    "det4"
   ]
  },
  {
   "cell_type": "code",
   "execution_count": 215,
   "id": "a24d8e7f-49d8-421e-8543-508ee325217d",
   "metadata": {},
   "outputs": [
    {
     "data": {
      "text/plain": [
       "array([[[-724350.]]])"
      ]
     },
     "execution_count": 215,
     "metadata": {},
     "output_type": "execute_result"
    }
   ],
   "source": [
    "det5 = la.det(D5)\n",
    "det5"
   ]
  },
  {
   "cell_type": "code",
   "execution_count": 165,
   "id": "14577328-4cd4-4b9d-ab8f-e0476ebb7dae",
   "metadata": {},
   "outputs": [],
   "source": [
    "# ------------- Finding transpose of the matrix ------------------"
   ]
  },
  {
   "cell_type": "code",
   "execution_count": 216,
   "id": "203b41c4-be0d-43fb-af31-1feb94e3482b",
   "metadata": {},
   "outputs": [
    {
     "name": "stdout",
     "output_type": "stream",
     "text": [
      "[1 2 3]\n"
     ]
    }
   ],
   "source": [
    "print(D1.T)"
   ]
  },
  {
   "cell_type": "code",
   "execution_count": 217,
   "id": "dafe1973-fb99-483f-bd53-027da7819205",
   "metadata": {},
   "outputs": [
    {
     "name": "stdout",
     "output_type": "stream",
     "text": [
      "[[1 3]\n",
      " [2 4]]\n"
     ]
    }
   ],
   "source": [
    "print(D2.T)"
   ]
  },
  {
   "cell_type": "code",
   "execution_count": 218,
   "id": "8fd9924a-0565-4653-acc7-200e1e7d17f9",
   "metadata": {},
   "outputs": [
    {
     "name": "stdout",
     "output_type": "stream",
     "text": [
      "[[[19]\n",
      "  [ 7]\n",
      "  [11]]\n",
      "\n",
      " [[65]\n",
      "  [ 8]\n",
      "  [12]]\n",
      "\n",
      " [[43]\n",
      "  [ 9]\n",
      "  [13]]]\n"
     ]
    }
   ],
   "source": [
    "print(D3.T)"
   ]
  },
  {
   "cell_type": "code",
   "execution_count": 219,
   "id": "15defd6b-54d3-462c-8197-53708bffd1c0",
   "metadata": {},
   "outputs": [
    {
     "name": "stdout",
     "output_type": "stream",
     "text": [
      "[[[[1]]\n",
      "\n",
      "  [[4]]\n",
      "\n",
      "  [[6]]\n",
      "\n",
      "  [[4]]]\n",
      "\n",
      "\n",
      " [[[2]]\n",
      "\n",
      "  [[5]]\n",
      "\n",
      "  [[7]]\n",
      "\n",
      "  [[8]]]\n",
      "\n",
      "\n",
      " [[[3]]\n",
      "\n",
      "  [[6]]\n",
      "\n",
      "  [[8]]\n",
      "\n",
      "  [[9]]]\n",
      "\n",
      "\n",
      " [[[4]]\n",
      "\n",
      "  [[7]]\n",
      "\n",
      "  [[9]]\n",
      "\n",
      "  [[5]]]]\n"
     ]
    }
   ],
   "source": [
    "print(D4.T)"
   ]
  },
  {
   "cell_type": "code",
   "execution_count": 220,
   "id": "d1973425-ebff-4c1d-bf05-f8c173f6bc94",
   "metadata": {},
   "outputs": [
    {
     "name": "stdout",
     "output_type": "stream",
     "text": [
      "[[[[[ 1]]]\n",
      "\n",
      "\n",
      "  [[[ 2]]]\n",
      "\n",
      "\n",
      "  [[[32]]]\n",
      "\n",
      "\n",
      "  [[[ 1]]]\n",
      "\n",
      "\n",
      "  [[[11]]]]\n",
      "\n",
      "\n",
      "\n",
      " [[[[ 2]]]\n",
      "\n",
      "\n",
      "  [[[23]]]\n",
      "\n",
      "\n",
      "  [[[14]]]\n",
      "\n",
      "\n",
      "  [[[ 2]]]\n",
      "\n",
      "\n",
      "  [[[12]]]]\n",
      "\n",
      "\n",
      "\n",
      " [[[[ 3]]]\n",
      "\n",
      "\n",
      "  [[[44]]]\n",
      "\n",
      "\n",
      "  [[[51]]]\n",
      "\n",
      "\n",
      "  [[[ 3]]]\n",
      "\n",
      "\n",
      "  [[[13]]]]\n",
      "\n",
      "\n",
      "\n",
      " [[[[ 4]]]\n",
      "\n",
      "\n",
      "  [[[ 5]]]\n",
      "\n",
      "\n",
      "  [[[ 6]]]\n",
      "\n",
      "\n",
      "  [[[ 7]]]\n",
      "\n",
      "\n",
      "  [[[14]]]]\n",
      "\n",
      "\n",
      "\n",
      " [[[[15]]]\n",
      "\n",
      "\n",
      "  [[[16]]]\n",
      "\n",
      "\n",
      "  [[[ 7]]]\n",
      "\n",
      "\n",
      "  [[[ 8]]]\n",
      "\n",
      "\n",
      "  [[[15]]]]]\n"
     ]
    }
   ],
   "source": [
    "print(D5.T)"
   ]
  },
  {
   "cell_type": "code",
   "execution_count": 221,
   "id": "abb7a553-1b2a-4955-80a3-e657fba29a03",
   "metadata": {},
   "outputs": [
    {
     "name": "stdout",
     "output_type": "stream",
     "text": [
      "[[-2.   1. ]\n",
      " [ 1.5 -0.5]]\n"
     ]
    }
   ],
   "source": [
    "#print(la.inv(D1))\n",
    "print(la.inv(D2))"
   ]
  },
  {
   "cell_type": "code",
   "execution_count": 222,
   "id": "a9300d03-c427-4af3-9b7b-6ba04ec32c80",
   "metadata": {},
   "outputs": [
    {
     "name": "stdout",
     "output_type": "stream",
     "text": [
      "[[[-0.01470588 -1.20955882  0.88602941]\n",
      "  [ 0.02941176 -0.83088235  0.47794118]\n",
      "  [-0.01470588  1.79044118 -1.11397059]]]\n"
     ]
    }
   ],
   "source": [
    "print(la.inv(D3))"
   ]
  },
  {
   "cell_type": "code",
   "execution_count": 223,
   "id": "34379525-0cf0-451f-b6d8-85a70a9e99a6",
   "metadata": {},
   "outputs": [
    {
     "name": "stdout",
     "output_type": "stream",
     "text": [
      "[[[[ 3.75299969e+14 -9.38249922e+14  5.62949953e+14 -1.25000000e-01]\n",
      "   [-9.75779919e+14  2.43944980e+15 -1.46366988e+15  1.25000000e-01]\n",
      "   [ 8.25659932e+14 -2.06414983e+15  1.23848990e+15  1.25000000e-01]\n",
      "   [-2.25179981e+14  5.62949953e+14 -3.37769972e+14 -1.25000000e-01]]]]\n"
     ]
    }
   ],
   "source": [
    "print(la.inv(D4))"
   ]
  },
  {
   "cell_type": "code",
   "execution_count": 224,
   "id": "1ae6263d-48de-4b00-8152-1562f1741084",
   "metadata": {},
   "outputs": [
    {
     "name": "stdout",
     "output_type": "stream",
     "text": [
      "[[[[[ 3.48339891e-02 -3.06205564e-02  1.81818182e-02 -1.15441430e-01\n",
      "      5.09118520e-02]\n",
      "    [-9.15165321e-03  2.17574377e-02 -3.63636364e-02 -2.25457307e-01\n",
      "      1.23157313e-01]\n",
      "    [-2.03672258e-02  1.41782288e-02  1.81818182e-02  1.13867605e-01\n",
      "     -6.39704563e-02]\n",
      "    [-1.05315110e-01 -5.31511010e-03  1.43848010e-18  2.27031131e-01\n",
      "     -1.00987092e-02]\n",
      "    [ 9.77220957e-02 -2.27790433e-03  3.83695863e-19 -4.55580866e-02\n",
      "     -4.32801822e-03]]]]]\n"
     ]
    }
   ],
   "source": [
    "print(la.inv(D5))"
   ]
  },
  {
   "cell_type": "code",
   "execution_count": null,
   "id": "d12666cb-1753-432c-8aed-523571cbf96c",
   "metadata": {},
   "outputs": [],
   "source": [
    "# ------------- Finding trace of the matrix ------------------"
   ]
  },
  {
   "cell_type": "code",
   "execution_count": 225,
   "id": "79566c09-be59-4e86-8ed5-94f2af18b716",
   "metadata": {},
   "outputs": [
    {
     "name": "stdout",
     "output_type": "stream",
     "text": [
      "5\n",
      "[19 65 43]\n",
      "[[1 2 3 4]\n",
      " [4 5 6 7]\n",
      " [6 7 8 9]\n",
      " [4 8 9 5]]\n",
      "[[[ 1  2  3  4 15]\n",
      "  [ 2 23 44  5 16]\n",
      "  [32 14 51  6  7]\n",
      "  [ 1  2  3  7  8]\n",
      "  [11 12 13 14 15]]]\n"
     ]
    }
   ],
   "source": [
    "#print(np.trace(D1))\n",
    "print(np.trace(D2))\n",
    "print(np.trace(D3))\n",
    "print(np.trace(D4))\n",
    "print(np.trace(D5))"
   ]
  },
  {
   "cell_type": "code",
   "execution_count": null,
   "id": "e609df98-64cb-4b7a-aba8-42e62d3f662a",
   "metadata": {},
   "outputs": [],
   "source": [
    "# ------------- Finding rank of the matrix------------------"
   ]
  },
  {
   "cell_type": "code",
   "execution_count": 226,
   "id": "6f81a949-1aeb-41ea-8e59-881279e86e9f",
   "metadata": {},
   "outputs": [
    {
     "name": "stdout",
     "output_type": "stream",
     "text": [
      "1\n",
      "2\n",
      "[3]\n",
      "[[3]]\n",
      "[[[5]]]\n"
     ]
    }
   ],
   "source": [
    "print(la.matrix_rank(D1))\n",
    "print(la.matrix_rank(D2))\n",
    "print(la.matrix_rank(D3))\n",
    "print(la.matrix_rank(D4))\n",
    "print(la.matrix_rank(D5))"
   ]
  },
  {
   "cell_type": "code",
   "execution_count": null,
   "id": "c04ea353-8b76-4521-9a84-2397a1758509",
   "metadata": {},
   "outputs": [],
   "source": [
    "# ------------- Finding diagonals of the matrix------------------"
   ]
  },
  {
   "cell_type": "code",
   "execution_count": 227,
   "id": "a3edd76e-7107-4fb5-bff0-e9d7d9613bc1",
   "metadata": {},
   "outputs": [
    {
     "name": "stdout",
     "output_type": "stream",
     "text": [
      "[[1 0 0]\n",
      " [0 2 0]\n",
      " [0 0 3]]\n",
      "[1 4]\n"
     ]
    }
   ],
   "source": [
    "print(np.diag(D1))\n",
    "print(np.diag(D2))\n",
    "#print(np.diag(D3))\n",
    "#print(np.diag(D4))\n",
    "#print(np.diag(D5)) it gives error for D3 and more dimensions"
   ]
  },
  {
   "cell_type": "code",
   "execution_count": 158,
   "id": "0ecc05ca-8986-4a62-8921-d412e534917c",
   "metadata": {},
   "outputs": [],
   "source": [
    "# ------------- Finding Eigen Values and Eigen Vectors ------------------"
   ]
  },
  {
   "cell_type": "code",
   "execution_count": 228,
   "id": "4fc60050-224d-4e67-9c4d-167db76a3aed",
   "metadata": {},
   "outputs": [
    {
     "name": "stdout",
     "output_type": "stream",
     "text": [
      "[-0.37228132  5.37228132]\n",
      "[[ 50.63285827 -10.1010308   -0.53182747]]\n",
      "[[[ 2.33876857e+01 -2.63558006e+00 -1.75210566e+00  2.06165411e-16]]]\n",
      "[[[[ 74.94297768+0.j          14.26053623+7.67083299j\n",
      "     14.26053623-7.67083299j -10.11009509+0.j\n",
      "      3.64604495+0.j        ]]]]\n"
     ]
    }
   ],
   "source": [
    "#print(la.eigvals(D1)) error\n",
    "print(la.eigvals(D2))\n",
    "print(la.eigvals(D3))\n",
    "print(la.eigvals(D4))\n",
    "print(la.eigvals(D5))"
   ]
  },
  {
   "cell_type": "code",
   "execution_count": 251,
   "id": "b611db47-a222-403c-961b-5c61b95a7746",
   "metadata": {},
   "outputs": [],
   "source": [
    "# x,y = la.eig(D1)\n",
    "# print(\"Values:\",x)\n",
    "#print(\"vectors:\",y) "
   ]
  },
  {
   "cell_type": "code",
   "execution_count": 229,
   "id": "b0c6cf5e-18a7-40dd-a891-5325ac1393b6",
   "metadata": {},
   "outputs": [
    {
     "name": "stdout",
     "output_type": "stream",
     "text": [
      "Eigen values: [-0.37228132  5.37228132]\n",
      "Eigen vectors: [[-0.82456484 -0.41597356]\n",
      " [ 0.56576746 -0.90937671]]\n"
     ]
    }
   ],
   "source": [
    "x,y = la.eig(D2)\n",
    "print(\"Eigen values:\",x)\n",
    "print(\"Eigen vectors:\",y)"
   ]
  },
  {
   "cell_type": "code",
   "execution_count": 230,
   "id": "03dd67f9-a57e-4aa9-978e-f57666a3fc71",
   "metadata": {},
   "outputs": [
    {
     "name": "stdout",
     "output_type": "stream",
     "text": [
      "Eigen values: [[ 50.63285827 -10.1010308   -0.53182747]]\n",
      "Eigen vectors: [[[-0.9146971  -0.92111118 -0.57007616]\n",
      "  [-0.22154136  0.18623201 -0.32723971]\n",
      "  [-0.33800686  0.34186522  0.75360954]]]\n"
     ]
    }
   ],
   "source": [
    "x,y = la.eig(D3)\n",
    "print(\"Eigen values:\",x)\n",
    "print(\"Eigen vectors:\",y)"
   ]
  },
  {
   "cell_type": "code",
   "execution_count": 231,
   "id": "6d9d0a1d-5946-4bfd-80ca-00aa441af1b6",
   "metadata": {},
   "outputs": [
    {
     "name": "stdout",
     "output_type": "stream",
     "text": [
      "Eigen values: [[[ 2.33876857e+01 -2.63558006e+00 -1.75210566e+00  2.06165411e-16]]]\n",
      "Eigen vectors: [[[[ 0.22854499 -0.56583976 -0.78880879  0.27777778]\n",
      "   [ 0.4726279  -0.3007259  -0.23060725 -0.72222222]\n",
      "   [ 0.63534983 -0.12398332  0.1415271   0.61111111]\n",
      "   [ 0.56632204  0.75763938  0.55187958 -0.16666667]]]]\n"
     ]
    }
   ],
   "source": [
    "x,y = la.eig(D4)\n",
    "print(\"Eigen values:\",x)\n",
    "print(\"Eigen vectors:\",y)"
   ]
  },
  {
   "cell_type": "code",
   "execution_count": 232,
   "id": "86ee86dc-5e27-4cef-ac78-d6d7716309cf",
   "metadata": {},
   "outputs": [
    {
     "name": "stdout",
     "output_type": "stream",
     "text": [
      "Eigen values: [[[[ 74.94297768+0.j          14.26053623+7.67083299j\n",
      "     14.26053623-7.67083299j -10.11009509+0.j\n",
      "      3.64604495+0.j        ]]]]\n",
      "Eigen vectors: [[[[[ 0.11394133+0.j         -0.26240853-0.24524872j\n",
      "     -0.26240853+0.24524872j -0.49353443+0.j\n",
      "      0.22592903+0.j        ]\n",
      "    [ 0.66776149+0.j          0.75539088+0.j\n",
      "      0.75539088-0.j         -0.64553819+0.j\n",
      "      0.67033752+0.j        ]\n",
      "    [ 0.65762217+0.j         -0.06460707+0.29425416j\n",
      "     -0.06460707-0.29425416j  0.37377786+0.j\n",
      "     -0.29855655+0.j        ]\n",
      "    [ 0.08777968+0.j         -0.16970224-0.14259799j\n",
      "     -0.16970224+0.14259799j -0.15701881+0.j\n",
      "     -0.61643561+0.j        ]\n",
      "    [ 0.31771021+0.j         -0.14910449-0.37182614j\n",
      "     -0.14910449+0.37182614j  0.4187355 +0.j\n",
      "      0.17457036+0.j        ]]]]]\n"
     ]
    }
   ],
   "source": [
    "x,y = la.eig(D5)\n",
    "print(\"Eigen values:\",x)\n",
    "print(\"Eigen vectors:\",y)"
   ]
  },
  {
   "cell_type": "code",
   "execution_count": 252,
   "id": "81ba9e1a-3616-4e75-89c1-a025e85f2ea0",
   "metadata": {},
   "outputs": [],
   "source": [
    "# ------------- Finding Sum(),cumsum(),min(),max(),count(),mean(),mode(),median(),describe() ------------------"
   ]
  },
  {
   "cell_type": "code",
   "execution_count": 234,
   "id": "15be9dc1-86b9-442f-aff4-c9ebd7738b6d",
   "metadata": {},
   "outputs": [],
   "source": [
    "import pandas as pd"
   ]
  },
  {
   "cell_type": "code",
   "execution_count": 235,
   "id": "0ffa126c-e3c6-4e8c-ab7c-037850fb7f49",
   "metadata": {},
   "outputs": [],
   "source": [
    "df = {'Name':pd.Series(['Sai','pawan teja','Madhuri','priyanka','surekha','anjali','gayathri','rocky']),\n",
    "      'Age':pd.Series([10,16,15,18,23,25,30,35]),\n",
    "      'Weight':pd.Series([10,35,35,38,40,50,55,60])\n",
    "     }"
   ]
  },
  {
   "cell_type": "code",
   "execution_count": 236,
   "id": "ba154521-fd0a-4f19-9f11-73c049ac2941",
   "metadata": {},
   "outputs": [
    {
     "data": {
      "text/html": [
       "<div>\n",
       "<style scoped>\n",
       "    .dataframe tbody tr th:only-of-type {\n",
       "        vertical-align: middle;\n",
       "    }\n",
       "\n",
       "    .dataframe tbody tr th {\n",
       "        vertical-align: top;\n",
       "    }\n",
       "\n",
       "    .dataframe thead th {\n",
       "        text-align: right;\n",
       "    }\n",
       "</style>\n",
       "<table border=\"1\" class=\"dataframe\">\n",
       "  <thead>\n",
       "    <tr style=\"text-align: right;\">\n",
       "      <th></th>\n",
       "      <th>Name</th>\n",
       "      <th>Age</th>\n",
       "      <th>Weight</th>\n",
       "    </tr>\n",
       "  </thead>\n",
       "  <tbody>\n",
       "    <tr>\n",
       "      <th>0</th>\n",
       "      <td>Sai</td>\n",
       "      <td>10</td>\n",
       "      <td>10</td>\n",
       "    </tr>\n",
       "    <tr>\n",
       "      <th>1</th>\n",
       "      <td>pawan teja</td>\n",
       "      <td>16</td>\n",
       "      <td>35</td>\n",
       "    </tr>\n",
       "    <tr>\n",
       "      <th>2</th>\n",
       "      <td>Madhuri</td>\n",
       "      <td>15</td>\n",
       "      <td>35</td>\n",
       "    </tr>\n",
       "    <tr>\n",
       "      <th>3</th>\n",
       "      <td>priyanka</td>\n",
       "      <td>18</td>\n",
       "      <td>38</td>\n",
       "    </tr>\n",
       "    <tr>\n",
       "      <th>4</th>\n",
       "      <td>surekha</td>\n",
       "      <td>23</td>\n",
       "      <td>40</td>\n",
       "    </tr>\n",
       "    <tr>\n",
       "      <th>5</th>\n",
       "      <td>anjali</td>\n",
       "      <td>25</td>\n",
       "      <td>50</td>\n",
       "    </tr>\n",
       "    <tr>\n",
       "      <th>6</th>\n",
       "      <td>gayathri</td>\n",
       "      <td>30</td>\n",
       "      <td>55</td>\n",
       "    </tr>\n",
       "    <tr>\n",
       "      <th>7</th>\n",
       "      <td>rocky</td>\n",
       "      <td>35</td>\n",
       "      <td>60</td>\n",
       "    </tr>\n",
       "  </tbody>\n",
       "</table>\n",
       "</div>"
      ],
      "text/plain": [
       "         Name  Age  Weight\n",
       "0         Sai   10      10\n",
       "1  pawan teja   16      35\n",
       "2     Madhuri   15      35\n",
       "3    priyanka   18      38\n",
       "4     surekha   23      40\n",
       "5      anjali   25      50\n",
       "6    gayathri   30      55\n",
       "7       rocky   35      60"
      ]
     },
     "execution_count": 236,
     "metadata": {},
     "output_type": "execute_result"
    }
   ],
   "source": [
    "df = pd.DataFrame(df)\n",
    "df"
   ]
  },
  {
   "cell_type": "code",
   "execution_count": 237,
   "id": "ecf6b8cc-e504-492b-a78e-39748ba0f94a",
   "metadata": {},
   "outputs": [
    {
     "name": "stdout",
     "output_type": "stream",
     "text": [
      "Name      Saipawan tejaMadhuripriyankasurekhaanjaligayat...\n",
      "Age                                                     172\n",
      "Weight                                                  323\n",
      "dtype: object\n"
     ]
    }
   ],
   "source": [
    "print(df.sum())"
   ]
  },
  {
   "cell_type": "code",
   "execution_count": 238,
   "id": "ee833a85-be31-42de-8b00-e8f7ef49191a",
   "metadata": {},
   "outputs": [
    {
     "name": "stdout",
     "output_type": "stream",
     "text": [
      "                                                Name  Age  Weight\n",
      "0                                                Sai   10      10\n",
      "1                                      Saipawan teja   26      45\n",
      "2                               Saipawan tejaMadhuri   41      80\n",
      "3                       Saipawan tejaMadhuripriyanka   59     118\n",
      "4                Saipawan tejaMadhuripriyankasurekha   82     158\n",
      "5          Saipawan tejaMadhuripriyankasurekhaanjali  107     208\n",
      "6  Saipawan tejaMadhuripriyankasurekhaanjaligayathri  137     263\n",
      "7  Saipawan tejaMadhuripriyankasurekhaanjaligayat...  172     323\n"
     ]
    }
   ],
   "source": [
    "print(df.cumsum())"
   ]
  },
  {
   "cell_type": "code",
   "execution_count": 239,
   "id": "afe928d4-70b2-4539-88e2-ec1c2d2aaa63",
   "metadata": {},
   "outputs": [
    {
     "data": {
      "text/html": [
       "<div>\n",
       "<style scoped>\n",
       "    .dataframe tbody tr th:only-of-type {\n",
       "        vertical-align: middle;\n",
       "    }\n",
       "\n",
       "    .dataframe tbody tr th {\n",
       "        vertical-align: top;\n",
       "    }\n",
       "\n",
       "    .dataframe thead th {\n",
       "        text-align: right;\n",
       "    }\n",
       "</style>\n",
       "<table border=\"1\" class=\"dataframe\">\n",
       "  <thead>\n",
       "    <tr style=\"text-align: right;\">\n",
       "      <th></th>\n",
       "      <th>Age</th>\n",
       "      <th>Weight</th>\n",
       "    </tr>\n",
       "  </thead>\n",
       "  <tbody>\n",
       "    <tr>\n",
       "      <th>0</th>\n",
       "      <td>10</td>\n",
       "      <td>10</td>\n",
       "    </tr>\n",
       "    <tr>\n",
       "      <th>1</th>\n",
       "      <td>16</td>\n",
       "      <td>35</td>\n",
       "    </tr>\n",
       "    <tr>\n",
       "      <th>2</th>\n",
       "      <td>15</td>\n",
       "      <td>35</td>\n",
       "    </tr>\n",
       "    <tr>\n",
       "      <th>3</th>\n",
       "      <td>18</td>\n",
       "      <td>38</td>\n",
       "    </tr>\n",
       "    <tr>\n",
       "      <th>4</th>\n",
       "      <td>23</td>\n",
       "      <td>40</td>\n",
       "    </tr>\n",
       "    <tr>\n",
       "      <th>5</th>\n",
       "      <td>25</td>\n",
       "      <td>50</td>\n",
       "    </tr>\n",
       "    <tr>\n",
       "      <th>6</th>\n",
       "      <td>30</td>\n",
       "      <td>55</td>\n",
       "    </tr>\n",
       "    <tr>\n",
       "      <th>7</th>\n",
       "      <td>35</td>\n",
       "      <td>60</td>\n",
       "    </tr>\n",
       "  </tbody>\n",
       "</table>\n",
       "</div>"
      ],
      "text/plain": [
       "   Age  Weight\n",
       "0   10      10\n",
       "1   16      35\n",
       "2   15      35\n",
       "3   18      38\n",
       "4   23      40\n",
       "5   25      50\n",
       "6   30      55\n",
       "7   35      60"
      ]
     },
     "execution_count": 239,
     "metadata": {},
     "output_type": "execute_result"
    }
   ],
   "source": [
    "df1 = {\n",
    "      'Age':pd.Series([10,16,15,18,23,25,30,35]),\n",
    "      'Weight':pd.Series([10,35,35,38,40,50,55,60])\n",
    "     }\n",
    "df1 = pd.DataFrame(df1)\n",
    "df1"
   ]
  },
  {
   "cell_type": "code",
   "execution_count": 240,
   "id": "d10787c4-2bb8-40aa-9771-5357cb39ec1b",
   "metadata": {},
   "outputs": [
    {
     "name": "stdout",
     "output_type": "stream",
     "text": [
      "Age       21.500\n",
      "Weight    40.375\n",
      "dtype: float64\n"
     ]
    }
   ],
   "source": [
    "print(df1.mean())"
   ]
  },
  {
   "cell_type": "code",
   "execution_count": 241,
   "id": "33e20552-69fc-4b68-a018-bd2fd729e242",
   "metadata": {},
   "outputs": [
    {
     "name": "stdout",
     "output_type": "stream",
     "text": [
      "Age       20.5\n",
      "Weight    39.0\n",
      "dtype: float64\n"
     ]
    }
   ],
   "source": [
    "print(df1.median())"
   ]
  },
  {
   "cell_type": "code",
   "execution_count": 242,
   "id": "526449cf-6438-484c-86d2-d50068e570f1",
   "metadata": {},
   "outputs": [
    {
     "name": "stdout",
     "output_type": "stream",
     "text": [
      "   Age  Weight\n",
      "0   10    35.0\n",
      "1   15     NaN\n",
      "2   16     NaN\n",
      "3   18     NaN\n",
      "4   23     NaN\n",
      "5   25     NaN\n",
      "6   30     NaN\n",
      "7   35     NaN\n"
     ]
    }
   ],
   "source": [
    "print(df1.mode())"
   ]
  },
  {
   "cell_type": "code",
   "execution_count": 243,
   "id": "6331369a-8c1c-4790-ac64-5829b752e414",
   "metadata": {},
   "outputs": [
    {
     "name": "stdout",
     "output_type": "stream",
     "text": [
      "             Age     Weight\n",
      "count   8.000000   8.000000\n",
      "mean   21.500000  40.375000\n",
      "std     8.332381  15.482133\n",
      "min    10.000000  10.000000\n",
      "25%    15.750000  35.000000\n",
      "50%    20.500000  39.000000\n",
      "75%    26.250000  51.250000\n",
      "max    35.000000  60.000000\n"
     ]
    }
   ],
   "source": [
    "print(df1.describe())"
   ]
  },
  {
   "cell_type": "code",
   "execution_count": 244,
   "id": "438109b4-5e67-4e35-86da-511607d6af10",
   "metadata": {},
   "outputs": [
    {
     "name": "stdout",
     "output_type": "stream",
     "text": [
      "Age       35\n",
      "Weight    60\n",
      "dtype: int64\n"
     ]
    }
   ],
   "source": [
    "print(df1.max())"
   ]
  },
  {
   "cell_type": "code",
   "execution_count": 245,
   "id": "dbfe55df-919c-4e57-aaf4-b20013eceffb",
   "metadata": {},
   "outputs": [
    {
     "name": "stdout",
     "output_type": "stream",
     "text": [
      "Age       10\n",
      "Weight    10\n",
      "dtype: int64\n"
     ]
    }
   ],
   "source": [
    "print(df1.min())"
   ]
  },
  {
   "cell_type": "code",
   "execution_count": 246,
   "id": "8e4c2f3f-eeee-496a-8089-154a2952420d",
   "metadata": {},
   "outputs": [
    {
     "name": "stdout",
     "output_type": "stream",
     "text": [
      "Age       8\n",
      "Weight    8\n",
      "dtype: int64\n"
     ]
    }
   ],
   "source": [
    "print(df1.count())"
   ]
  },
  {
   "cell_type": "code",
   "execution_count": 247,
   "id": "ffa7a192-0a88-46a2-85cf-5a859e711fa3",
   "metadata": {},
   "outputs": [],
   "source": [
    "# ------------- Finding  covariance and correlation  ------------------"
   ]
  },
  {
   "cell_type": "code",
   "execution_count": 248,
   "id": "28ca11ca-8c8a-4560-b49b-17fd19756db7",
   "metadata": {},
   "outputs": [
    {
     "name": "stdout",
     "output_type": "stream",
     "text": [
      "Requirement already satisfied: scipy in c:\\users\\surek\\appdata\\local\\programs\\python\\python311\\lib\\site-packages (1.11.2)Note: you may need to restart the kernel to use updated packages.\n",
      "\n",
      "Requirement already satisfied: numpy<1.28.0,>=1.21.6 in c:\\users\\surek\\appdata\\local\\programs\\python\\python311\\lib\\site-packages (from scipy) (1.25.2)\n"
     ]
    }
   ],
   "source": [
    "pip install scipy"
   ]
  },
  {
   "cell_type": "code",
   "execution_count": 249,
   "id": "74b2d180-666b-4dc9-84c1-e915621fd954",
   "metadata": {},
   "outputs": [
    {
     "name": "stdout",
     "output_type": "stream",
     "text": [
      "[[  9.16666667  55.33333333]\n",
      " [ 55.33333333 936.26666667]]\n"
     ]
    }
   ],
   "source": [
    "from numpy import cov\n",
    "data1 = [1,2,3,4,5,6,7,8,9,10]\n",
    "data2 = [11,22,33,44,55,66,77,88,99,19]\n",
    "covariance = cov(data1,data2)\n",
    "print(covariance)"
   ]
  },
  {
   "cell_type": "code",
   "execution_count": 250,
   "id": "c3604031-48b9-40b2-b0b1-6fe3c1b457be",
   "metadata": {},
   "outputs": [
    {
     "name": "stdout",
     "output_type": "stream",
     "text": [
      "0.5972846214175457\n"
     ]
    }
   ],
   "source": [
    "from scipy.stats import pearsonr\n",
    "data1 = [1,2,3,4,5,6,7,8,9,10]\n",
    "data2 = [11,22,33,44,55,66,77,88,99,19]\n",
    "corr,_ = pearsonr(data1,data2)\n",
    "print(corr)"
   ]
  },
  {
   "cell_type": "code",
   "execution_count": null,
   "id": "f5206885-eb77-4d9c-87f8-ac986cbdef4a",
   "metadata": {},
   "outputs": [],
   "source": []
  }
 ],
 "metadata": {
  "kernelspec": {
   "display_name": "Python 3 (ipykernel)",
   "language": "python",
   "name": "python3"
  },
  "language_info": {
   "codemirror_mode": {
    "name": "ipython",
    "version": 3
   },
   "file_extension": ".py",
   "mimetype": "text/x-python",
   "name": "python",
   "nbconvert_exporter": "python",
   "pygments_lexer": "ipython3",
   "version": "3.11.5"
  }
 },
 "nbformat": 4,
 "nbformat_minor": 5
}
